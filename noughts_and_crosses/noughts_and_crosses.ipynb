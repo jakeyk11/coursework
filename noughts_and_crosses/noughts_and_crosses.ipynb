{
 "cells": [
  {
   "cell_type": "markdown",
   "id": "4c67dee6",
   "metadata": {},
   "source": [
    "# Noughts + Crosses"
   ]
  },
  {
   "cell_type": "markdown",
   "id": "057f6cde",
   "metadata": {},
   "source": [
    "### Define function to print out the board:"
   ]
  },
  {
   "cell_type": "code",
   "execution_count": 1,
   "id": "84697a9b",
   "metadata": {},
   "outputs": [],
   "source": [
    "def print_board(s):\n",
    "\n",
    "    print(f\"     |     |   \")\n",
    "    print(f\"  {s[6]}  |  {s[7]}  |  {s[8]} \")\n",
    "    print(f\"_____|_____|_____\")\n",
    "    print(f\"     |     |   \")\n",
    "    print(f\"  {s[3]}  |  {s[4]}  |  {s[5]} \")\n",
    "    print(f\"_____|_____|_____\")\n",
    "    print(f\"     |     |   \")\n",
    "    print(f\"  {s[0]}  |  {s[1]}  |  {s[2]} \")\n",
    "    print(f\"     |     |   \")"
   ]
  },
  {
   "cell_type": "markdown",
   "id": "1d2b488e",
   "metadata": {},
   "source": [
    "#### Test function"
   ]
  },
  {
   "cell_type": "code",
   "execution_count": 2,
   "id": "e93c450a",
   "metadata": {},
   "outputs": [
    {
     "name": "stdout",
     "output_type": "stream",
     "text": [
      "     |     |   \n",
      "  X  |  O  |  X \n",
      "_____|_____|_____\n",
      "     |     |   \n",
      "  O  |  X  |  O \n",
      "_____|_____|_____\n",
      "     |     |   \n",
      "  X  |  O  |  X \n",
      "     |     |   \n"
     ]
    }
   ],
   "source": [
    "s = ['X','O','X','O','X','O','X','O','X']\n",
    "print_board(s)     "
   ]
  },
  {
   "cell_type": "markdown",
   "id": "8aa228a8",
   "metadata": {},
   "source": [
    "### Define function to take user input"
   ]
  },
  {
   "cell_type": "code",
   "execution_count": 3,
   "id": "f84aafbb",
   "metadata": {
    "scrolled": true
   },
   "outputs": [],
   "source": [
    "def player_input(available_pos, marker):\n",
    "    \n",
    "    board_pos = 'Default string'\n",
    "    \n",
    "    while board_pos not in available_pos:   \n",
    "            board_pos = input(f\"Player {marker}, choose position: \")\n",
    "            if board_pos not in available_pos:\n",
    "                print('Invalid input, please input an unoccupied value between 1 and 9')\n",
    "\n",
    "    available_pos.remove(board_pos)\n",
    "    return int(board_pos), available_pos"
   ]
  },
  {
   "cell_type": "markdown",
   "id": "e1b93738",
   "metadata": {},
   "source": [
    "#### Test function"
   ]
  },
  {
   "cell_type": "code",
   "execution_count": 4,
   "id": "dfe989ec",
   "metadata": {
    "scrolled": false
   },
   "outputs": [
    {
     "name": "stdout",
     "output_type": "stream",
     "text": [
      "Player O, choose position: 2\n",
      "Invalid input, please input an unoccupied value between 1 and 9\n",
      "Player O, choose position: ??\n",
      "Invalid input, please input an unoccupied value between 1 and 9\n",
      "Player O, choose position: 5\n"
     ]
    },
    {
     "data": {
      "text/plain": [
       "(5, ['1', '3', '4', '7'])"
      ]
     },
     "execution_count": 4,
     "metadata": {},
     "output_type": "execute_result"
    }
   ],
   "source": [
    "available_pos = ['1','3','4','5','7']\n",
    "marker = 'O'\n",
    "player_input(available_pos, marker)"
   ]
  },
  {
   "cell_type": "markdown",
   "id": "93bb7e0c",
   "metadata": {},
   "source": [
    "### Define a function to update board list"
   ]
  },
  {
   "cell_type": "code",
   "execution_count": 5,
   "id": "66a67a69",
   "metadata": {},
   "outputs": [],
   "source": [
    "def update_board(s, board_pos, marker):\n",
    "    \n",
    "    s[board_pos - 1] = marker\n",
    "    return s"
   ]
  },
  {
   "cell_type": "markdown",
   "id": "7284702e",
   "metadata": {},
   "source": [
    "#### Test function"
   ]
  },
  {
   "cell_type": "code",
   "execution_count": 6,
   "id": "ae628253",
   "metadata": {},
   "outputs": [
    {
     "data": {
      "text/plain": [
       "[' ', ' ', ' ', ' ', 'X', ' ', ' ', ' ', ' ']"
      ]
     },
     "execution_count": 6,
     "metadata": {},
     "output_type": "execute_result"
    }
   ],
   "source": [
    "s = [' ',' ',' ',' ',' ',' ',' ',' ',' ']\n",
    "board_pos = 5\n",
    "marker = 'X'\n",
    "update_board(s, 5, marker)"
   ]
  },
  {
   "cell_type": "markdown",
   "id": "bd1fd7d9",
   "metadata": {},
   "source": [
    "### Define a function to check for winner"
   ]
  },
  {
   "cell_type": "code",
   "execution_count": 7,
   "id": "72e660b5",
   "metadata": {},
   "outputs": [],
   "source": [
    "def win_check(player_moves, marker, available_pos):\n",
    "    # Horizontal wins checked using set comparison\n",
    "    if set([1,2,3]).issubset(set(player_moves)) or set([4,5,6]).issubset(set(player_moves)) or set([7,8,9]).issubset(set(player_moves)):\n",
    "        print(f\"\\nCongratulations, {marker} wins\")\n",
    "        return False\n",
    "    # Vertical wins checked using set comparison\n",
    "    elif set([1,4,7]).issubset(set(player_moves)) or set([2,5,8]).issubset(set(player_moves)) or set([3,6,9]).issubset(set(player_moves)):\n",
    "        print(f\"\\nCongratulations, {marker} wins\")\n",
    "        return False\n",
    "    # Diagonal wins checked using set comparison\n",
    "    elif set([3,5,7]).issubset(set(player_moves)) or set([1,5,9]).issubset(set(player_moves)):\n",
    "        print(f\"\\nCongratulations, {marker} wins\")\n",
    "        return False\n",
    "    # If all positions are full\n",
    "    elif len(available_pos) == 0:\n",
    "        print(f\"\\nNo winner this time!\")\n",
    "        return False\n",
    "    else:\n",
    "        return True"
   ]
  },
  {
   "cell_type": "markdown",
   "id": "569d9e1f",
   "metadata": {},
   "source": [
    "#### Test function"
   ]
  },
  {
   "cell_type": "code",
   "execution_count": 8,
   "id": "ad0367cb",
   "metadata": {},
   "outputs": [
    {
     "data": {
      "text/plain": [
       "True"
      ]
     },
     "execution_count": 8,
     "metadata": {},
     "output_type": "execute_result"
    }
   ],
   "source": [
    "player_moves = [1,3,7]\n",
    "available_pos = [2,4,9]\n",
    "marker = 'X'\n",
    "win_check(player_moves,'X', available_pos)"
   ]
  },
  {
   "cell_type": "code",
   "execution_count": 9,
   "id": "368b211f",
   "metadata": {
    "scrolled": true
   },
   "outputs": [
    {
     "name": "stdout",
     "output_type": "stream",
     "text": [
      "\n",
      "Congratulations, O wins\n"
     ]
    },
    {
     "data": {
      "text/plain": [
       "False"
      ]
     },
     "execution_count": 9,
     "metadata": {},
     "output_type": "execute_result"
    }
   ],
   "source": [
    "player_moves = [1,5,9]\n",
    "available_pos = [2,3,4]\n",
    "marker = 'O'\n",
    "win_check(player_moves,'O', available_pos)"
   ]
  },
  {
   "cell_type": "code",
   "execution_count": 10,
   "id": "d395e2ac",
   "metadata": {},
   "outputs": [
    {
     "name": "stdout",
     "output_type": "stream",
     "text": [
      "\n",
      "No winner this time!\n"
     ]
    },
    {
     "data": {
      "text/plain": [
       "False"
      ]
     },
     "execution_count": 10,
     "metadata": {},
     "output_type": "execute_result"
    }
   ],
   "source": [
    "player_moves = [1,6,9]\n",
    "available_pos = []\n",
    "marker = 'O'\n",
    "win_check(player_moves,'O', available_pos)"
   ]
  },
  {
   "cell_type": "markdown",
   "id": "a1dc87ca",
   "metadata": {},
   "source": [
    "### Define a function to allow the game to be replayed"
   ]
  },
  {
   "cell_type": "code",
   "execution_count": 11,
   "id": "7051bc45",
   "metadata": {},
   "outputs": [],
   "source": [
    "def gameon_choice():\n",
    "    \n",
    "    choice = 'wrong'\n",
    "    \n",
    "    while choice not in ['Y','N']:  \n",
    "        \n",
    "        choice = input(\"Would you like to play again? Y or N: \")\n",
    "\n",
    "        if choice not in ['Y','N']:\n",
    "            print(\"Sorry, I didn't understand. Please make sure to choose Y or N.\")\n",
    "    \n",
    "    if choice == \"Y\":\n",
    "        return True\n",
    "    else:\n",
    "        return False"
   ]
  },
  {
   "cell_type": "markdown",
   "id": "a17a5f4b",
   "metadata": {},
   "source": [
    "#### Test function"
   ]
  },
  {
   "cell_type": "code",
   "execution_count": 12,
   "id": "a0e1d285",
   "metadata": {},
   "outputs": [
    {
     "name": "stdout",
     "output_type": "stream",
     "text": [
      "Would you like to play again? Y or N: ??\n",
      "Sorry, I didn't understand. Please make sure to choose Y or N.\n",
      "Would you like to play again? Y or N: N\n"
     ]
    },
    {
     "data": {
      "text/plain": [
       "False"
      ]
     },
     "execution_count": 12,
     "metadata": {},
     "output_type": "execute_result"
    }
   ],
   "source": [
    "gameon_choice()"
   ]
  },
  {
   "cell_type": "markdown",
   "id": "cdd69f82",
   "metadata": {},
   "source": [
    "# Noughts + Crosses Game"
   ]
  },
  {
   "cell_type": "code",
   "execution_count": 13,
   "id": "8e8500b4",
   "metadata": {
    "scrolled": false
   },
   "outputs": [],
   "source": [
    "from IPython.display import clear_output\n",
    "\n",
    "# Clear previous output\n",
    "clear_output()\n",
    "\n",
    "# Define instructions \n",
    "print(\"Two player game of tic-tac-toe. Players should position their 'X' or 'O's using numerical inputs that correspond to the positions below: \\n \")\n",
    "s = [1,2,3,4,5,6,7,8,9]\n",
    "\n",
    "# Turn on\n",
    "game_on = True\n",
    "\n",
    "# While game is on\n",
    "while game_on:\n",
    "\n",
    "    # Set game to active and print board\n",
    "    game_active = True\n",
    "    print_board(s)\n",
    "    \n",
    "    # Initialise board, move lists and starting player\n",
    "    s = [' ',' ',' ',' ',' ',' ',' ',' ',' ']\n",
    "    available_pos = ['1','2','3','4','5','6','7','8','9']\n",
    "    playerX_moves = []\n",
    "    playerO_moves = []\n",
    "    marker = 'X'\n",
    "\n",
    "    # While game is active\n",
    "    while game_active:\n",
    "\n",
    "        # Take player input\n",
    "        board_pos, available_pos = player_input(available_pos, marker)\n",
    "\n",
    "        # Store historical player inputs\n",
    "        if marker == 'X':\n",
    "            playerX_moves.append(board_pos)\n",
    "            player_moves = playerX_moves\n",
    "        elif marker == 'O':\n",
    "            playerO_moves.append(board_pos)\n",
    "            player_moves = playerO_moves\n",
    "\n",
    "        # Clear output and update board list\n",
    "        clear_output()\n",
    "        s = update_board(s, board_pos, marker)\n",
    "\n",
    "        # Print board\n",
    "        print_board(s)\n",
    "\n",
    "        # Check for winner\n",
    "        game_active = win_check(player_moves, marker, available_pos)\n",
    "        \n",
    "        # Switch player\n",
    "        if marker == 'X':\n",
    "            marker = 'O'\n",
    "        else:\n",
    "            marker = 'X'\n",
    "    \n",
    "    # Enable user to decide whether to continue playing\n",
    "    game_on = gameon_choice()\n",
    "    \n",
    "    # Reset board and clear output\n",
    "    s = [' ',' ',' ',' ',' ',' ',' ',' ',' ']\n",
    "    clear_output()\n",
    "    "
   ]
  }
 ],
 "metadata": {
  "kernelspec": {
   "display_name": "Python 3 (ipykernel)",
   "language": "python",
   "name": "python3"
  },
  "language_info": {
   "codemirror_mode": {
    "name": "ipython",
    "version": 3
   },
   "file_extension": ".py",
   "mimetype": "text/x-python",
   "name": "python",
   "nbconvert_exporter": "python",
   "pygments_lexer": "ipython3",
   "version": "3.9.7"
  }
 },
 "nbformat": 4,
 "nbformat_minor": 5
}
