{
 "cells": [
  {
   "cell_type": "markdown",
   "id": "b1d0e399",
   "metadata": {},
   "source": [
    "# BlackJack\n",
    "\n",
    "### Import required modules and define global parameters"
   ]
  },
  {
   "cell_type": "code",
   "execution_count": 1,
   "id": "d539685b",
   "metadata": {},
   "outputs": [],
   "source": [
    "import random\n",
    "from IPython.display import clear_output\n",
    "\n",
    "suits = (\"Hearts\",\"Clubs\",\"Diamonds\",\"Spades\")\n",
    "ranks = (\"Two\", \"Three\", \"Four\", \"Five\", \"Six\", \"Seven\", \"Eight\", \"Nine\", \"Ten\", \"Jack\", \"Queen\", \"King\", \"Ace\")\n",
    "values = {\"Two\":2, \"Three\":3, \"Four\":4, \"Five\":5, \"Six\":6, \"Seven\":7, \"Eight\":8, \"Nine\":9, \"Ten\":10, \"Jack\":10, \"Queen\":10, \"King\":10, \"Ace\":11}"
   ]
  },
  {
   "cell_type": "markdown",
   "id": "de56771a",
   "metadata": {},
   "source": [
    "### Define card class"
   ]
  },
  {
   "cell_type": "code",
   "execution_count": 2,
   "id": "80ea5324",
   "metadata": {},
   "outputs": [],
   "source": [
    "class Card():  \n",
    "    '''\n",
    "    Playing card.\n",
    "    '''\n",
    "    def __init__(self, suit, rank):\n",
    "        self.suit = suit\n",
    "        self.rank = rank\n",
    "        self.value = values[rank]\n",
    "    \n",
    "    def __str__(self):\n",
    "        return f\"{self.rank} of {self.suit}\"   "
   ]
  },
  {
   "cell_type": "markdown",
   "id": "bac650d9",
   "metadata": {},
   "source": [
    "#### Test class"
   ]
  },
  {
   "cell_type": "code",
   "execution_count": 3,
   "id": "3a4e4b1e",
   "metadata": {
    "scrolled": true
   },
   "outputs": [
    {
     "name": "stdout",
     "output_type": "stream",
     "text": [
      "Two of Diamonds\n"
     ]
    }
   ],
   "source": [
    "# Test card creation and print functionality\n",
    "two_diamond = Card(suits[2],ranks[0])\n",
    "print(two_diamond)"
   ]
  },
  {
   "cell_type": "markdown",
   "id": "c5899791",
   "metadata": {},
   "source": [
    "### Define deck class, that uses the card class. It can be drawn from, added to and shuffled"
   ]
  },
  {
   "cell_type": "code",
   "execution_count": 4,
   "id": "83c2abf9",
   "metadata": {},
   "outputs": [],
   "source": [
    "class Deck():    \n",
    "    '''\n",
    "    Deck of playing cards.\n",
    "    '''\n",
    "    def __init__(self):\n",
    "        self.cardlist = []\n",
    "        for suit in suits:\n",
    "            for rank in ranks:\n",
    "                self.cardlist.append(Card(suit,rank))\n",
    "\n",
    "    def __len__(self):\n",
    "        return len(self.cardlist)\n",
    "    \n",
    "    def shuffle(self):\n",
    "        '''\n",
    "        Shuffle the deck of cards.\n",
    "        '''\n",
    "        random.shuffle(self.cardlist)\n",
    "        \n",
    "    def draw_card(self):\n",
    "        '''\n",
    "        Draw a single card from the top of the deck.\n",
    "        '''\n",
    "        return self.cardlist.pop()\n",
    "        \n",
    "    def add_to_deck(self, cards_to_add):\n",
    "        '''\n",
    "        Add a single card or list of cards to the bottom of the deck.\n",
    "        '''\n",
    "        if type(cards_to_add) == type([]):\n",
    "            for card in cards_to_add:\n",
    "                if card in self.cardlist:\n",
    "                    print(f\"The {card} is already contained within the deck, so has not been added\")\n",
    "                else:\n",
    "                    self.cardlist.insert(0, card)\n",
    "        else:\n",
    "            if cards_to_add in self.cardlist:\n",
    "                print(f\"The {cards_to_add} is already contained within the deck, so has not been added\")\n",
    "            else:\n",
    "                self.cardlist.insert(0, cards_to_add)"
   ]
  },
  {
   "cell_type": "markdown",
   "id": "b1458c1e",
   "metadata": {},
   "source": [
    "#### Test class"
   ]
  },
  {
   "cell_type": "code",
   "execution_count": 5,
   "id": "bc403314",
   "metadata": {},
   "outputs": [
    {
     "name": "stdout",
     "output_type": "stream",
     "text": [
      "52\n",
      "Two of Hearts\n"
     ]
    }
   ],
   "source": [
    "# Test deck creation and length functionality\n",
    "testdeck = Deck()\n",
    "print(len(testdeck))\n",
    "print(testdeck.cardlist[0])"
   ]
  },
  {
   "cell_type": "code",
   "execution_count": 6,
   "id": "664ba26f",
   "metadata": {},
   "outputs": [
    {
     "name": "stdout",
     "output_type": "stream",
     "text": [
      "Nine of Clubs\n"
     ]
    }
   ],
   "source": [
    "# Test shuffle functionality\n",
    "testdeck.shuffle()\n",
    "print(testdeck.cardlist[0])"
   ]
  },
  {
   "cell_type": "code",
   "execution_count": 7,
   "id": "31cefb6e",
   "metadata": {},
   "outputs": [
    {
     "name": "stdout",
     "output_type": "stream",
     "text": [
      "Five of Spades Ten of Hearts Jack of Diamonds\n"
     ]
    },
    {
     "data": {
      "text/plain": [
       "49"
      ]
     },
     "execution_count": 7,
     "metadata": {},
     "output_type": "execute_result"
    }
   ],
   "source": [
    "# Test draw card funcionality\n",
    "drawn_card = testdeck.draw_card()\n",
    "drawn_card2 = testdeck.draw_card()\n",
    "drawn_card3 = testdeck.draw_card()\n",
    "print(drawn_card, drawn_card2, drawn_card3)\n",
    "len(testdeck)"
   ]
  },
  {
   "cell_type": "code",
   "execution_count": 8,
   "id": "8b18a730",
   "metadata": {},
   "outputs": [
    {
     "name": "stdout",
     "output_type": "stream",
     "text": [
      "Ten of Hearts\n",
      "The Ten of Hearts is already contained within the deck, so has not been added\n"
     ]
    }
   ],
   "source": [
    "# Test add to deck functionality for single card\n",
    "testdeck.add_to_deck(drawn_card2)\n",
    "print(testdeck.cardlist[0])\n",
    "testdeck.add_to_deck(drawn_card2)"
   ]
  },
  {
   "cell_type": "code",
   "execution_count": 9,
   "id": "87c8217e",
   "metadata": {},
   "outputs": [
    {
     "name": "stdout",
     "output_type": "stream",
     "text": [
      "The Ten of Hearts is already contained within the deck, so has not been added\n",
      "Jack of Diamonds\n",
      "Five of Spades\n",
      "Ten of Hearts\n"
     ]
    }
   ],
   "source": [
    "# Test add to deck functionality for list of cards\n",
    "testdeck.add_to_deck([drawn_card, drawn_card2, drawn_card3])\n",
    "print(testdeck.cardlist[0])\n",
    "print(testdeck.cardlist[1])\n",
    "print(testdeck.cardlist[2])"
   ]
  },
  {
   "cell_type": "markdown",
   "id": "cb78b431",
   "metadata": {},
   "source": [
    "### Define hand of cards class"
   ]
  },
  {
   "cell_type": "code",
   "execution_count": 10,
   "id": "1da12e56",
   "metadata": {},
   "outputs": [],
   "source": [
    "class Hand():\n",
    "    '''\n",
    "    Hand of cards, requiring input of hand name.\n",
    "    '''\n",
    "    def __init__(self,name=\"Player\"):\n",
    "        self.cards_in_hand = []\n",
    "        self.value = 0\n",
    "        self.aces = 0\n",
    "        self.name = name\n",
    "        \n",
    "    def __len__(self):\n",
    "        return len(self.cards_in_hand)\n",
    "        \n",
    "    def __str__ (self): \n",
    "        return f\"{self.name} has {len(self.cards_in_hand)} cards in hand, totalling {self.value}\"\n",
    "    \n",
    "    def add_to_hand(self, card):\n",
    "        '''\n",
    "        Add a single card to the hand\n",
    "        '''\n",
    "        self.cards_in_hand.append(card)\n",
    "        self.value += card.value\n",
    "        if card.rank == \"Ace\":\n",
    "            self.aces += 1\n",
    "    \n",
    "    def adjust_for_ace(self):\n",
    "        '''\n",
    "        Adjust the total of the hand for ace = low case\n",
    "        '''\n",
    "        if self.aces > 0 and self.value > 21:\n",
    "            self.value -= 10\n",
    "            self.aces -= 1"
   ]
  },
  {
   "cell_type": "markdown",
   "id": "1f56c9db",
   "metadata": {},
   "source": [
    "#### Test class"
   ]
  },
  {
   "cell_type": "code",
   "execution_count": 11,
   "id": "7b41fe29",
   "metadata": {},
   "outputs": [
    {
     "name": "stdout",
     "output_type": "stream",
     "text": [
      "Player has 0 cards in hand, totalling 0\n"
     ]
    }
   ],
   "source": [
    "# Test hand creation and print functionality\n",
    "test_hand = Hand(\"Player\")\n",
    "print(test_hand)"
   ]
  },
  {
   "cell_type": "code",
   "execution_count": 12,
   "id": "32dde50e",
   "metadata": {},
   "outputs": [
    {
     "name": "stdout",
     "output_type": "stream",
     "text": [
      "Player has 1 cards in hand, totalling 2\n"
     ]
    }
   ],
   "source": [
    "# Test add to hand functionality.\n",
    "test_hand.add_to_hand(two_diamond)\n",
    "print(test_hand)"
   ]
  },
  {
   "cell_type": "code",
   "execution_count": 13,
   "id": "de876b0e",
   "metadata": {},
   "outputs": [
    {
     "name": "stdout",
     "output_type": "stream",
     "text": [
      "13\n",
      "13\n"
     ]
    }
   ],
   "source": [
    "# Test reduce for ace functionality\n",
    "ace_heart = Card(suits[0],ranks[-1])\n",
    "test_hand.add_to_hand(ace_heart)\n",
    "print(test_hand.value)\n",
    "test_hand.adjust_for_ace()\n",
    "print(test_hand.value)"
   ]
  },
  {
   "cell_type": "markdown",
   "id": "486d339a",
   "metadata": {},
   "source": [
    "### Define chips / bank class"
   ]
  },
  {
   "cell_type": "code",
   "execution_count": 14,
   "id": "08d56b1f",
   "metadata": {},
   "outputs": [],
   "source": [
    "class Chips():\n",
    "    '''\n",
    "    Player's collection of chips for betting.\n",
    "    '''\n",
    "    \n",
    "    def __init__(self):\n",
    "        self.total_chips = 100\n",
    "        \n",
    "    def __str__(self):\n",
    "        return f\"Player has {self.total_chips} chips available.\"\n",
    "    \n",
    "    def __len__(self):\n",
    "        return self.total_chips\n",
    "        \n",
    "    def place_bet(self, bet_amount):\n",
    "        '''\n",
    "        Allow the user to place a bet, and remove chips from total\n",
    "        '''\n",
    "        if bet_amount > self.total_chips:\n",
    "            print(f'The bet of {bet_amount} chips exceeds the player total of {self.total_chips} chips. Please choose a different amount of chips.')\n",
    "        else:\n",
    "            self.total_chips -= bet_amount\n",
    "            \n",
    "    def return_chips(self, return_amount):\n",
    "        '''\n",
    "        Return chips to the collection after a bet has been one.\n",
    "        '''\n",
    "        self.total_chips += return_amount"
   ]
  },
  {
   "cell_type": "markdown",
   "id": "c5ef05fd",
   "metadata": {},
   "source": [
    "#### Test class"
   ]
  },
  {
   "cell_type": "code",
   "execution_count": 15,
   "id": "06cf8594",
   "metadata": {},
   "outputs": [
    {
     "name": "stdout",
     "output_type": "stream",
     "text": [
      "Player has 100 chips available.\n"
     ]
    },
    {
     "data": {
      "text/plain": [
       "100"
      ]
     },
     "execution_count": 15,
     "metadata": {},
     "output_type": "execute_result"
    }
   ],
   "source": [
    "# Test object creation and print, length functionality.\n",
    "test_chips = Chips()\n",
    "print(test_chips)\n",
    "len(test_chips)"
   ]
  },
  {
   "cell_type": "code",
   "execution_count": 16,
   "id": "f01ace4b",
   "metadata": {},
   "outputs": [
    {
     "name": "stdout",
     "output_type": "stream",
     "text": [
      "Player has 20 chips available.\n",
      "The bet of 40 chips exceeds the player total of 20 chips. Please choose a different amount of chips.\n",
      "Player has 20 chips available.\n"
     ]
    }
   ],
   "source": [
    "# Test bet functionality\n",
    "test_chips.place_bet(80)\n",
    "print(test_chips)\n",
    "test_chips.place_bet(40)\n",
    "print(test_chips)"
   ]
  },
  {
   "cell_type": "code",
   "execution_count": 17,
   "id": "6852bd1e",
   "metadata": {},
   "outputs": [
    {
     "name": "stdout",
     "output_type": "stream",
     "text": [
      "Player has 120 chips available.\n"
     ]
    }
   ],
   "source": [
    "# Test return chips functionality\n",
    "test_chips.return_chips(100)\n",
    "print(test_chips)"
   ]
  },
  {
   "cell_type": "markdown",
   "id": "72ebc310",
   "metadata": {},
   "source": [
    "### Define function that takes a bet"
   ]
  },
  {
   "cell_type": "code",
   "execution_count": 18,
   "id": "1c4ceaf8",
   "metadata": {},
   "outputs": [],
   "source": [
    "def take_bet(chips):\n",
    "    '''\n",
    "    Function to take in a Chip object and enable the user to place a bet with available chips.\n",
    "    '''  \n",
    "    if not(type(chips) == type(Chips())):\n",
    "        return \"Invalid input object, please input an object of class: Chips\"\n",
    "    \n",
    "    while True:\n",
    "        try:\n",
    "            bet = int(input(\"\\nEnter number of chips to bet: \"))\n",
    "        except:\n",
    "            print(\"Something went wrong\")\n",
    "        else:\n",
    "            if bet > chips.total_chips:\n",
    "                print(f\"Bet amount exceeds available chips. You have {chips.total_chips} available\")\n",
    "            else:\n",
    "                chips.place_bet(bet)\n",
    "                return chips, bet\n",
    "                break"
   ]
  },
  {
   "cell_type": "markdown",
   "id": "e68063f6",
   "metadata": {},
   "source": [
    "#### Test function"
   ]
  },
  {
   "cell_type": "code",
   "execution_count": 19,
   "id": "e245a112",
   "metadata": {
    "scrolled": false
   },
   "outputs": [
    {
     "name": "stdout",
     "output_type": "stream",
     "text": [
      "Invalid input object, please input an object of class: Chips\n"
     ]
    }
   ],
   "source": [
    "# Check for incorrect object definition\n",
    "print(take_bet(4))"
   ]
  },
  {
   "cell_type": "code",
   "execution_count": 20,
   "id": "d1f53762",
   "metadata": {
    "scrolled": true
   },
   "outputs": [
    {
     "name": "stdout",
     "output_type": "stream",
     "text": [
      "\n",
      "Enter number of chips to bet: two hundred\n",
      "Something went wrong\n",
      "\n",
      "Enter number of chips to bet: 200\n",
      "Bet amount exceeds available chips. You have 120 available\n",
      "\n",
      "Enter number of chips to bet: 20\n",
      "Player has 100 chips available.\n"
     ]
    }
   ],
   "source": [
    "# Check function behaviour\n",
    "print(take_bet(test_chips)[0])"
   ]
  },
  {
   "cell_type": "markdown",
   "id": "8ef3f910",
   "metadata": {},
   "source": [
    "### Define function that allows the player to twist."
   ]
  },
  {
   "cell_type": "code",
   "execution_count": 21,
   "id": "1855dea8",
   "metadata": {},
   "outputs": [],
   "source": [
    "def twist(hand, deck):\n",
    "    '''\n",
    "    Function that takes a card from a deck and places it within the player's hand. Input of hand and deck objects required.\n",
    "    '''\n",
    "    if not(type(hand) == type(Hand())) or not(type(deck) == type(Deck())):\n",
    "        return \"Invalid input object, please input an object of class: Hand, and an object of class: Deck\"\n",
    "    \n",
    "    new_card = deck.draw_card()\n",
    "    hand.add_to_hand(new_card)\n",
    "    hand.adjust_for_ace()"
   ]
  },
  {
   "cell_type": "markdown",
   "id": "0256e7f9",
   "metadata": {},
   "source": [
    "#### Test function"
   ]
  },
  {
   "cell_type": "code",
   "execution_count": 22,
   "id": "9cf8a6de",
   "metadata": {
    "scrolled": false
   },
   "outputs": [
    {
     "name": "stdout",
     "output_type": "stream",
     "text": [
      "52\n",
      "Two of Diamonds\n",
      "Ace of Hearts\n",
      "51\n",
      "Two of Diamonds\n",
      "Ace of Hearts\n",
      "Jack of Spades\n"
     ]
    }
   ],
   "source": [
    "# Check function behaviour\n",
    "print(len(testdeck))\n",
    "_ =[print(i) for i in test_hand.cards_in_hand]\n",
    "twist(test_hand, testdeck)\n",
    "print(len(testdeck))\n",
    "_ =[print(i) for i in test_hand.cards_in_hand]"
   ]
  },
  {
   "cell_type": "markdown",
   "id": "ff156eab",
   "metadata": {},
   "source": [
    "### Define function that asks the player to stick or twist"
   ]
  },
  {
   "cell_type": "code",
   "execution_count": 23,
   "id": "071ef95d",
   "metadata": {},
   "outputs": [],
   "source": [
    "def player_choice(hand, deck):\n",
    "    '''\n",
    "    Function that allows to choose whether to stick or twist\n",
    "    '''\n",
    "    global player_turn\n",
    "    \n",
    "    if not(type(hand) == type(Hand())) or not(type(deck) == type(Deck())):\n",
    "        return str(\"Invalid input object, please input an object of class: Hand, and an object of class: Deck\")\n",
    "    \n",
    "    while True:\n",
    "        try:\n",
    "            choice = input(\"\\nWould you like to stick (S) or twist (T)? \").upper()\n",
    "        except:\n",
    "            print(\"Invalid input, please enter either S or T\")\n",
    "        else:\n",
    "            if not(choice =='S' or choice=='T'):\n",
    "                print(\"Invalid input, please enter either S or T\") \n",
    "            else:\n",
    "                break\n",
    "        \n",
    "    if choice == 'T':\n",
    "        clear_output()\n",
    "        player_turn = True\n",
    "        twist(hand, deck)\n",
    "        print(f\"\\n{hand.cards_in_hand[-1]} has been drawn.\")\n",
    "    else:\n",
    "        clear_output()\n",
    "        player_turn = False\n",
    "        print(f\"\\nSticking on {hand.value}, dealer plays.\")"
   ]
  },
  {
   "cell_type": "markdown",
   "id": "422eaa57",
   "metadata": {},
   "source": [
    "#### Test function"
   ]
  },
  {
   "cell_type": "code",
   "execution_count": 24,
   "id": "04a39b54",
   "metadata": {},
   "outputs": [
    {
     "name": "stdout",
     "output_type": "stream",
     "text": [
      "\n",
      "Ace of Hearts has been drawn.\n",
      "Player has 4 cards in hand, totalling 14\n",
      "50\n"
     ]
    }
   ],
   "source": [
    "# Test behaviour\n",
    "player_choice(test_hand, testdeck)\n",
    "print(test_hand)\n",
    "print(len(testdeck))"
   ]
  },
  {
   "cell_type": "markdown",
   "id": "f9a352fc",
   "metadata": {},
   "source": [
    "### Define function that displays the player and dealer hands."
   ]
  },
  {
   "cell_type": "code",
   "execution_count": 25,
   "id": "770da905",
   "metadata": {},
   "outputs": [],
   "source": [
    "def display_hand(player_hand, dealer_hand, mode=1):\n",
    "    '''\n",
    "    Function to display player and dealer hands, use 'Mode' to hide dealer card when player is playing\n",
    "    '''\n",
    "    if not(type(player_hand) == type(Hand())) or not(type(dealer_hand) == type(Hand())):\n",
    "        return str(\"Invalid input object, please input an object of class: Hand, and an object of class: Hand\")\n",
    "\n",
    "    if mode == 1:\n",
    "        print(f\"\\n{player_hand.name} hand, total = {player_hand.value}\")\n",
    "        [print(card) for card in player_hand.cards_in_hand]\n",
    "        print(f\"\\n{dealer_hand.name} hand:, total = {dealer_hand.cards_in_hand[0].value}+\")\n",
    "        print(f\"{dealer_hand.cards_in_hand[0]}\\n<Card not visible>\")\n",
    "    \n",
    "    if mode == 2:\n",
    "        print(f\"\\n{player_hand.name} hand, total = {player_hand.value}\")\n",
    "        [print(card) for card in player_hand.cards_in_hand]\n",
    "        print(f\"\\n{dealer_hand.name} hand:, total = {dealer_hand.value} \")\n",
    "        [print(card) for card in dealer_hand.cards_in_hand]\n",
    "        print()"
   ]
  },
  {
   "cell_type": "markdown",
   "id": "db6f8552",
   "metadata": {},
   "source": [
    "#### Test function"
   ]
  },
  {
   "cell_type": "code",
   "execution_count": 26,
   "id": "11c5e971",
   "metadata": {
    "scrolled": true
   },
   "outputs": [
    {
     "name": "stdout",
     "output_type": "stream",
     "text": [
      "\n",
      "Player hand, total = 14\n",
      "Two of Diamonds\n",
      "Ace of Hearts\n",
      "Jack of Spades\n",
      "Ace of Hearts\n",
      "\n",
      "Player hand:, total = 2+\n",
      "Two of Diamonds\n",
      "<Card not visible>\n"
     ]
    }
   ],
   "source": [
    "# Test behaviour \n",
    "display_hand(test_hand, test_hand)"
   ]
  },
  {
   "cell_type": "markdown",
   "id": "850c20a1",
   "metadata": {},
   "source": [
    "### Define function that determines the winner and assigns chips."
   ]
  },
  {
   "cell_type": "code",
   "execution_count": 27,
   "id": "ef93791f",
   "metadata": {},
   "outputs": [],
   "source": [
    "def determine_winner(player_hand, dealer_hand):\n",
    "    '''\n",
    "    Function that takes in two hand objects and calculates the winner, and assigns chips.\n",
    "    '''\n",
    "    if not(type(player_hand) == type(Hand())) or not(type(dealer_hand) == type(Hand())):\n",
    "        return str(\"Invalid input object, please input an object of class: Hand, an object of class: Hand\")\n",
    "    \n",
    "    if player_hand.value > 21:\n",
    "        return dealer_hand.name\n",
    "    elif dealer_hand.value > 21:\n",
    "        return player_hand.name\n",
    "    elif player_hand.value <= dealer_hand.value:\n",
    "        return dealer_hand.name\n",
    "    elif player_hand.value > dealer_hand.value:\n",
    "        return player_hand.name"
   ]
  },
  {
   "cell_type": "markdown",
   "id": "54577388",
   "metadata": {},
   "source": [
    "### Define function that allows user to decide whether to play again."
   ]
  },
  {
   "cell_type": "code",
   "execution_count": 28,
   "id": "68235bd5",
   "metadata": {},
   "outputs": [],
   "source": [
    "def play_again():\n",
    "    '''\n",
    "    Function that allows user to decide whether to play again.\n",
    "    '''\n",
    "    while True:\n",
    "        try:\n",
    "            play_again = input(\"\\nWould you like to play again (Y or N)? \").upper()\n",
    "        except:\n",
    "            print(\"Invalid input, please enter either Y or N\")\n",
    "        else:\n",
    "            if not(play_again =='Y' or play_again=='N'):\n",
    "                print(\"Invalid input, please enter either Y or N\") \n",
    "            else:\n",
    "                break\n",
    "    \n",
    "    return play_again"
   ]
  },
  {
   "cell_type": "markdown",
   "id": "4cf7e68a",
   "metadata": {},
   "source": [
    "#### Test function"
   ]
  },
  {
   "cell_type": "code",
   "execution_count": 29,
   "id": "957e3908",
   "metadata": {},
   "outputs": [
    {
     "name": "stdout",
     "output_type": "stream",
     "text": [
      "\n",
      "Would you like to play again (Y or N)? Y\n"
     ]
    },
    {
     "data": {
      "text/plain": [
       "'Y'"
      ]
     },
     "execution_count": 29,
     "metadata": {},
     "output_type": "execute_result"
    }
   ],
   "source": [
    "play_again()"
   ]
  },
  {
   "cell_type": "markdown",
   "id": "4b318ea0",
   "metadata": {},
   "source": [
    "# Blackjack Game"
   ]
  },
  {
   "cell_type": "code",
   "execution_count": 30,
   "id": "82d1d230",
   "metadata": {
    "scrolled": false
   },
   "outputs": [
    {
     "name": "stdout",
     "output_type": "stream",
     "text": [
      "\n",
      "Sticking on 18, dealer plays.\n",
      "\n",
      "Player hand, total = 18\n",
      "Four of Diamonds\n",
      "Four of Hearts\n",
      "Five of Spades\n",
      "Five of Clubs\n",
      "\n",
      "Dealer hand:, total = 12 \n",
      "Jack of Diamonds\n",
      "Two of Clubs\n",
      "\n",
      "\n",
      "Eight of Spades drawn automatically, total is 20\n",
      "\n",
      "Player hand, total = 18\n",
      "Four of Diamonds\n",
      "Four of Hearts\n",
      "Five of Spades\n",
      "Five of Clubs\n",
      "\n",
      "Dealer hand:, total = 20 \n",
      "Jack of Diamonds\n",
      "Two of Clubs\n",
      "Eight of Spades\n",
      "\n",
      "\n",
      "Dealer wins, 80 chips lost. Total of 0 chips.\n",
      "\n",
      "Game over, player has no more chips.\n",
      "\n",
      "Would you like to play again (Y or N)? N\n"
     ]
    }
   ],
   "source": [
    "# Define user chip collection\n",
    "player_chips = Chips()\n",
    "\n",
    "# Define deck of cards and shuffle\n",
    "game_deck = Deck()\n",
    "game_deck.shuffle()\n",
    "\n",
    "# Define player hands\n",
    "player_hand = Hand(\"Player\")\n",
    "dealer_hand = Hand(\"Dealer\")\n",
    "\n",
    "# Start game and initialise loops\n",
    "game_active = True\n",
    "player_turn = True\n",
    "dealer_turn = True\n",
    "\n",
    "while game_active:\n",
    "\n",
    "    # Draw two cards into each players hand\n",
    "    for _ in range(2):\n",
    "        player_hand.add_to_hand(game_deck.draw_card())\n",
    "        dealer_hand.add_to_hand(game_deck.draw_card())\n",
    "    \n",
    "    # Print cards\n",
    "    display_hand(player_hand, dealer_hand, mode=1) \n",
    "    \n",
    "    # Take bet from user\n",
    "    print(f\"\\nPlayer has {player_chips.total_chips} chips\")\n",
    "    player_chips, chips_bet = take_bet(player_chips)\n",
    "    clear_output()\n",
    "    \n",
    "    # While the player is playing\n",
    "    while player_turn:\n",
    "\n",
    "        # Print hands\n",
    "        display_hand(player_hand, dealer_hand, mode=1)  \n",
    "        \n",
    "        # Decide to stick or twist\n",
    "        player_choice(player_hand, game_deck)\n",
    "        \n",
    "        # Break loop and lose if player goes bust\n",
    "        if player_hand.value > 21:\n",
    "            print(f\"\\nBUST on {player_hand.value}\")\n",
    "            player_turn = False\n",
    "            dealer_turn = False\n",
    "          \n",
    "    # While the dealier is playing    \n",
    "    while dealer_turn:\n",
    "\n",
    "        # Print hands\n",
    "        display_hand(player_hand, dealer_hand, mode=2)\n",
    "        \n",
    "        # Automatically deal for dealer until the player's score is reached\n",
    "        while dealer_hand.value < player_hand.value:\n",
    "            twist(dealer_hand, game_deck)\n",
    "            print(f\"\\n{dealer_hand.cards_in_hand[-1]} drawn automatically, total is {dealer_hand.value}\")\n",
    "            display_hand(player_hand, dealer_hand, mode=2)\n",
    "      \n",
    "        # Break loop and win if dealer goest bust   \n",
    "        if dealer_hand.value > 21:\n",
    "            print(f\"\\nDealer BUST on {dealer_hand.value}\")\n",
    "            dealer_turn = False\n",
    "            break\n",
    "            \n",
    "        # Check for dealer win scenario\n",
    "        if dealer_hand.value >= player_hand.value:\n",
    "            dealer_turn = False\n",
    "    \n",
    "    # Determine winner\n",
    "    winner = determine_winner(player_hand, dealer_hand)\n",
    "    \n",
    "    # State winner and assign chips\n",
    "    if winner == player_hand.name:\n",
    "        player_chips.return_chips(2*chips_bet)\n",
    "        print(f\"\\nPlayer wins, {chips_bet} chips won. Total of {player_chips.total_chips} chips.\")\n",
    "        \n",
    "    elif winner == dealer_hand.name:\n",
    "        print(f\"\\nDealer wins, {chips_bet} chips lost. Total of {player_chips.total_chips} chips.\")\n",
    "    \n",
    "    # Ask the user whether they would like to play again - resetting chips if required \n",
    "    if player_chips.total_chips <= 0:\n",
    "        print(f\"\\nGame over, player has no more chips.\")\n",
    "        choice = play_again()\n",
    "        if choice == 'Y':\n",
    "            player_chips.return_chips(100)\n",
    "    else:\n",
    "        choice = play_again()\n",
    "\n",
    "    # Set-up game based on player choice (either add cards back to deck and shuffle, or quit)    \n",
    "    if choice == 'Y':\n",
    "        game_active = True\n",
    "        player_turn = True\n",
    "        dealer_turn = True\n",
    "        game_deck.add_to_deck(player_hand.cards_in_hand)\n",
    "        player_hand = Hand(\"Player\")\n",
    "        game_deck.add_to_deck(dealer_hand.cards_in_hand)\n",
    "        dealer_hand = Hand(\"Dealer\")\n",
    "        game_deck.shuffle() \n",
    "    else:\n",
    "        game_active = False\n",
    "        break "
   ]
  }
 ],
 "metadata": {
  "kernelspec": {
   "display_name": "Python 3 (ipykernel)",
   "language": "python",
   "name": "python3"
  },
  "language_info": {
   "codemirror_mode": {
    "name": "ipython",
    "version": 3
   },
   "file_extension": ".py",
   "mimetype": "text/x-python",
   "name": "python",
   "nbconvert_exporter": "python",
   "pygments_lexer": "ipython3",
   "version": "3.9.7"
  }
 },
 "nbformat": 4,
 "nbformat_minor": 5
}
